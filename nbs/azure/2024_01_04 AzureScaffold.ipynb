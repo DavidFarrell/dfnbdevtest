{
 "cells": [
  {
   "cell_type": "code",
   "execution_count": 11,
   "metadata": {},
   "outputs": [
    {
     "name": "stdout",
     "output_type": "stream",
     "text": [
      "Requirement already satisfied: python-dotenv in /home/david/anaconda3/envs/jupyter38/lib/python3.8/site-packages (1.0.0)\n"
     ]
    }
   ],
   "source": [
    "!pip install python-dotenv\n"
   ]
  },
  {
   "cell_type": "code",
   "execution_count": 10,
   "metadata": {},
   "outputs": [
    {
     "ename": "KeyError",
     "evalue": "'AZURE_OPENAI_35_TURBO_MODEL'",
     "output_type": "error",
     "traceback": [
      "\u001b[0;31m---------------------------------------------------------------------------\u001b[0m",
      "\u001b[0;31mKeyError\u001b[0m                                  Traceback (most recent call last)",
      "\u001b[1;32mg:\\My Drive\\Colab Notebooks\\cyb\\2023_11_23 TA Toy\\dfnbdevtest\\nbs\\azure\\2024_01_04 AzureScaffold.ipynb Cell 2\u001b[0m line \u001b[0;36m2\n\u001b[1;32m      <a href='vscode-notebook-cell:/g%3A/My%20Drive/Colab%20Notebooks/cyb/2023_11_23%20TA%20Toy/dfnbdevtest/nbs/azure/2024_01_04%20AzureScaffold.ipynb#W1sZmlsZQ%3D%3D?line=7'>8</a>\u001b[0m load_dotenv()\n\u001b[1;32m     <a href='vscode-notebook-cell:/g%3A/My%20Drive/Colab%20Notebooks/cyb/2023_11_23%20TA%20Toy/dfnbdevtest/nbs/azure/2024_01_04%20AzureScaffold.ipynb#W1sZmlsZQ%3D%3D?line=9'>10</a>\u001b[0m \u001b[39m# print(f\"model: {os.environ['AZURE_OPENAI_35_TURBO_MODEL']}, \\\u001b[39;00m\n\u001b[1;32m     <a href='vscode-notebook-cell:/g%3A/My%20Drive/Colab%20Notebooks/cyb/2023_11_23%20TA%20Toy/dfnbdevtest/nbs/azure/2024_01_04%20AzureScaffold.ipynb#W1sZmlsZQ%3D%3D?line=10'>11</a>\u001b[0m \u001b[39m# version: {os.environ['AZURE_OPENAI_35_TURBO_MODEL_VERSION']}, \\\u001b[39;00m\n\u001b[1;32m     <a href='vscode-notebook-cell:/g%3A/My%20Drive/Colab%20Notebooks/cyb/2023_11_23%20TA%20Toy/dfnbdevtest/nbs/azure/2024_01_04%20AzureScaffold.ipynb#W1sZmlsZQ%3D%3D?line=11'>12</a>\u001b[0m \u001b[39m# deployment: {os.environ['AZURE_OPENAI_35_TURBO_DEPLOYMENT_ID']}, \\\u001b[39;00m\n\u001b[0;32m   (...)\u001b[0m\n\u001b[1;32m     <a href='vscode-notebook-cell:/g%3A/My%20Drive/Colab%20Notebooks/cyb/2023_11_23%20TA%20Toy/dfnbdevtest/nbs/azure/2024_01_04%20AzureScaffold.ipynb#W1sZmlsZQ%3D%3D?line=19'>20</a>\u001b[0m \u001b[39m# api key: {os.environ['AZURE_OPENAI_API_KEY']}\")\u001b[39;00m\n\u001b[1;32m     <a href='vscode-notebook-cell:/g%3A/My%20Drive/Colab%20Notebooks/cyb/2023_11_23%20TA%20Toy/dfnbdevtest/nbs/azure/2024_01_04%20AzureScaffold.ipynb#W1sZmlsZQ%3D%3D?line=20'>21</a>\u001b[0m \u001b[39m# \u001b[39;00m\n\u001b[1;32m     <a href='vscode-notebook-cell:/g%3A/My%20Drive/Colab%20Notebooks/cyb/2023_11_23%20TA%20Toy/dfnbdevtest/nbs/azure/2024_01_04%20AzureScaffold.ipynb#W1sZmlsZQ%3D%3D?line=21'>22</a>\u001b[0m azureChatClient \u001b[39m=\u001b[39m AzureChatOpenAI(\n\u001b[1;32m     <a href='vscode-notebook-cell:/g%3A/My%20Drive/Colab%20Notebooks/cyb/2023_11_23%20TA%20Toy/dfnbdevtest/nbs/azure/2024_01_04%20AzureScaffold.ipynb#W1sZmlsZQ%3D%3D?line=22'>23</a>\u001b[0m     temperature\u001b[39m=\u001b[39m\u001b[39m0\u001b[39m,\n\u001b[0;32m---> <a href='vscode-notebook-cell:/g%3A/My%20Drive/Colab%20Notebooks/cyb/2023_11_23%20TA%20Toy/dfnbdevtest/nbs/azure/2024_01_04%20AzureScaffold.ipynb#W1sZmlsZQ%3D%3D?line=23'>24</a>\u001b[0m     model\u001b[39m=\u001b[39mos\u001b[39m.\u001b[39;49menviron[\u001b[39m\"\u001b[39;49m\u001b[39mAZURE_OPENAI_35_TURBO_MODEL\u001b[39;49m\u001b[39m\"\u001b[39;49m],\n\u001b[1;32m     <a href='vscode-notebook-cell:/g%3A/My%20Drive/Colab%20Notebooks/cyb/2023_11_23%20TA%20Toy/dfnbdevtest/nbs/azure/2024_01_04%20AzureScaffold.ipynb#W1sZmlsZQ%3D%3D?line=24'>25</a>\u001b[0m     openai_api_version\u001b[39m=\u001b[39mos\u001b[39m.\u001b[39menviron[\u001b[39m\"\u001b[39m\u001b[39mAZURE_OPENAI_35_TURBO_MODEL_VERSION\u001b[39m\u001b[39m\"\u001b[39m],\n\u001b[1;32m     <a href='vscode-notebook-cell:/g%3A/My%20Drive/Colab%20Notebooks/cyb/2023_11_23%20TA%20Toy/dfnbdevtest/nbs/azure/2024_01_04%20AzureScaffold.ipynb#W1sZmlsZQ%3D%3D?line=25'>26</a>\u001b[0m     openai_api_key\u001b[39m=\u001b[39mos\u001b[39m.\u001b[39menviron[\u001b[39m\"\u001b[39m\u001b[39mAZURE_OPENAI_API_KEY\u001b[39m\u001b[39m\"\u001b[39m],\n\u001b[1;32m     <a href='vscode-notebook-cell:/g%3A/My%20Drive/Colab%20Notebooks/cyb/2023_11_23%20TA%20Toy/dfnbdevtest/nbs/azure/2024_01_04%20AzureScaffold.ipynb#W1sZmlsZQ%3D%3D?line=26'>27</a>\u001b[0m     azure_endpoint\u001b[39m=\u001b[39mos\u001b[39m.\u001b[39menviron[\u001b[39m\"\u001b[39m\u001b[39mAZURE_OPENAI_API_BASE\u001b[39m\u001b[39m\"\u001b[39m],\n\u001b[1;32m     <a href='vscode-notebook-cell:/g%3A/My%20Drive/Colab%20Notebooks/cyb/2023_11_23%20TA%20Toy/dfnbdevtest/nbs/azure/2024_01_04%20AzureScaffold.ipynb#W1sZmlsZQ%3D%3D?line=27'>28</a>\u001b[0m     deployment_name\u001b[39m=\u001b[39mos\u001b[39m.\u001b[39menviron[\u001b[39m\"\u001b[39m\u001b[39mAZURE_OPENAI_35_TURBO_DEPLOYMENT_ID\u001b[39m\u001b[39m\"\u001b[39m],\n\u001b[1;32m     <a href='vscode-notebook-cell:/g%3A/My%20Drive/Colab%20Notebooks/cyb/2023_11_23%20TA%20Toy/dfnbdevtest/nbs/azure/2024_01_04%20AzureScaffold.ipynb#W1sZmlsZQ%3D%3D?line=28'>29</a>\u001b[0m )\n\u001b[1;32m     <a href='vscode-notebook-cell:/g%3A/My%20Drive/Colab%20Notebooks/cyb/2023_11_23%20TA%20Toy/dfnbdevtest/nbs/azure/2024_01_04%20AzureScaffold.ipynb#W1sZmlsZQ%3D%3D?line=29'>30</a>\u001b[0m \u001b[39m# azureChatClient = AzureChatOpenAI(\u001b[39;00m\n\u001b[1;32m     <a href='vscode-notebook-cell:/g%3A/My%20Drive/Colab%20Notebooks/cyb/2023_11_23%20TA%20Toy/dfnbdevtest/nbs/azure/2024_01_04%20AzureScaffold.ipynb#W1sZmlsZQ%3D%3D?line=30'>31</a>\u001b[0m \u001b[39m#     temperature=0,\u001b[39;00m\n\u001b[1;32m     <a href='vscode-notebook-cell:/g%3A/My%20Drive/Colab%20Notebooks/cyb/2023_11_23%20TA%20Toy/dfnbdevtest/nbs/azure/2024_01_04%20AzureScaffold.ipynb#W1sZmlsZQ%3D%3D?line=31'>32</a>\u001b[0m \u001b[39m#     model=os.environ[\"AZURE_OPENAI_4_TURBO_MODEL\"],\u001b[39;00m\n\u001b[0;32m   (...)\u001b[0m\n\u001b[1;32m     <a href='vscode-notebook-cell:/g%3A/My%20Drive/Colab%20Notebooks/cyb/2023_11_23%20TA%20Toy/dfnbdevtest/nbs/azure/2024_01_04%20AzureScaffold.ipynb#W1sZmlsZQ%3D%3D?line=35'>36</a>\u001b[0m \u001b[39m#     deployment_name=os.environ[\"AZURE_OPENAI_4_TURBO_DEPLOYMENT_ID\"],\u001b[39;00m\n\u001b[1;32m     <a href='vscode-notebook-cell:/g%3A/My%20Drive/Colab%20Notebooks/cyb/2023_11_23%20TA%20Toy/dfnbdevtest/nbs/azure/2024_01_04%20AzureScaffold.ipynb#W1sZmlsZQ%3D%3D?line=36'>37</a>\u001b[0m \u001b[39m# )\u001b[39;00m\n\u001b[1;32m     <a href='vscode-notebook-cell:/g%3A/My%20Drive/Colab%20Notebooks/cyb/2023_11_23%20TA%20Toy/dfnbdevtest/nbs/azure/2024_01_04%20AzureScaffold.ipynb#W1sZmlsZQ%3D%3D?line=39'>40</a>\u001b[0m \u001b[39mdef\u001b[39;00m \u001b[39mbrainstorm_phase\u001b[39m():\n",
      "File \u001b[0;32m~/anaconda3/envs/jupyter38/lib/python3.8/os.py:675\u001b[0m, in \u001b[0;36m_Environ.__getitem__\u001b[0;34m(self, key)\u001b[0m\n\u001b[1;32m    672\u001b[0m     value \u001b[39m=\u001b[39m \u001b[39mself\u001b[39m\u001b[39m.\u001b[39m_data[\u001b[39mself\u001b[39m\u001b[39m.\u001b[39mencodekey(key)]\n\u001b[1;32m    673\u001b[0m \u001b[39mexcept\u001b[39;00m \u001b[39mKeyError\u001b[39;00m:\n\u001b[1;32m    674\u001b[0m     \u001b[39m# raise KeyError with the original key value\u001b[39;00m\n\u001b[0;32m--> 675\u001b[0m     \u001b[39mraise\u001b[39;00m \u001b[39mKeyError\u001b[39;00m(key) \u001b[39mfrom\u001b[39;00m \u001b[39mNone\u001b[39;00m\n\u001b[1;32m    676\u001b[0m \u001b[39mreturn\u001b[39;00m \u001b[39mself\u001b[39m\u001b[39m.\u001b[39mdecodevalue(value)\n",
      "\u001b[0;31mKeyError\u001b[0m: 'AZURE_OPENAI_35_TURBO_MODEL'"
     ]
    }
   ],
   "source": [
    "import os\n",
    "\n",
    "from dotenv import load_dotenv\n",
    "from langchain.chains import LLMChain, SequentialChain\n",
    "from langchain.chat_models import AzureChatOpenAI\n",
    "from langchain.prompts import PromptTemplate\n",
    "\n",
    "load_dotenv()\n",
    "\n",
    "# print(f\"model: {os.environ['AZURE_OPENAI_35_TURBO_MODEL']}, \\\n",
    "# version: {os.environ['AZURE_OPENAI_35_TURBO_MODEL_VERSION']}, \\\n",
    "# deployment: {os.environ['AZURE_OPENAI_35_TURBO_DEPLOYMENT_ID']}, \\\n",
    "# endpoint: {os.environ['AZURE_OPENAI_API_BASE']}, \\\n",
    "# api key: {os.environ['AZURE_OPENAI_API_KEY']}\")\n",
    "\n",
    "# print(f\"model: {os.environ['AZURE_OPENAI_4_TURBO_MODEL']}, \\\n",
    "# version: {os.environ['AZURE_OPENAI_4_TURBO_MODEL_VERSION']}, \\\n",
    "# deployment: {os.environ['AZURE_OPENAI_4_TURBO_DEPLOYMENT_ID']}, \\\n",
    "# endpoint: {os.environ['AZURE_OPENAI_API_BASE']}, \\\n",
    "# api key: {os.environ['AZURE_OPENAI_API_KEY']}\")\n",
    "# \n",
    "\n",
    "# till i add em to conda\n",
    "os.environ['AZURE_OPENAI_35_16k_MODEL_VERSION']=\"2023-05-15\"\n",
    "os.environ['AZURE_OPENAI_35_16k_MODEL']=\"gpt-35-turbo\"\n",
    "\n",
    "\n",
    "os.environ['AZURE_OPENAI_EMBEDDINGS_DEPLOYMENT']='fcdo-digital-triage-embeddings'\n",
    "os.environ['EMBEDDING_MODEL']='text-embedding-ada-002'\n",
    "\n",
    "azureChatClient = AzureChatOpenAI(\n",
    "    temperature=0,\n",
    "    model=os.environ[\"AZURE_OPENAI_35_TURBO_MODEL\"],\n",
    "    openai_api_version=os.environ[\"AZURE_OPENAI_35_TURBO_MODEL_VERSION\"],\n",
    "    openai_api_key=os.environ[\"AZURE_OPENAI_API_KEY\"],\n",
    "    azure_endpoint=os.environ[\"AZURE_OPENAI_API_BASE\"],\n",
    "    deployment_name=os.environ[\"DEPLOYMENT_ID\"],\n",
    ")\n",
    "# azureChatClient = AzureChatOpenAI(\n",
    "#     temperature=0,\n",
    "#     model=os.environ[\"AZURE_OPENAI_4_TURBO_MODEL\"],\n",
    "#     openai_api_version=os.environ[\"AZURE_OPENAI_4_TURBO_MODEL_VERSION\"],\n",
    "#     openai_api_key=os.environ[\"AZURE_OPENAI_API_KEY\"],\n",
    "#     azure_endpoint=os.environ[\"AZURE_OPENAI_API_BASE\"],\n",
    "#     deployment_name=os.environ[\"AZURE_OPENAI_4_TURBO_DEPLOYMENT_ID\"],\n",
    "# )\n",
    "\n",
    "\n",
    "def brainstorm_phase():\n",
    "    prompt = PromptTemplate(\n",
    "        input_variables=[\"input\", \"perfect_factors\"],\n",
    "        template=\"You are a bot for the UK FCDO govenment department that will help UK citizens answer questions when they are abroad outside of the UK.\"\n",
    "    )\n",
    "\n",
    "    chain1 = LLMChain(\n",
    "        llm=azureChatClient,\n",
    "        prompt=prompt,\n",
    "        output_key=\"solutions\",\n",
    "        verbose=True\n",
    "    )\n",
    "    return chain1\n",
    "\n",
    "\n",
    "def orchestrate(query: str):\n",
    "    overall_chain = SequentialChain(\n",
    "        chains=[brainstorm_phase()],\n",
    "        input_variables=[\"input\", \"perfect_factors\"],\n",
    "        output_variables=[\"ranked_solutions\"],\n",
    "        verbose=True\n",
    "    )\n",
    "\n",
    "    result = overall_chain({\"input\": query,\n",
    "                            \"perfect_factors\": \"you can contact your local embassy or apply for an emergency travel document to get home.  You can contact a local medical facility and report the incident to the police for the mugging.\"})\n",
    "\n",
    "    print(result)\n",
    "\n",
    "    # print(overall_chain({\"input\": \"I've a UK citizen and lost my passport in bangkok and have been mugged\",\n",
    "    #                      \"perfect_factors\": \"you can contact your local embassy or apply for an emergency travel document to get home.  You can contact a local medical facility and report the incident to the police for the mugging.\"}))\n",
    "    return result\n",
    "\n",
    "\n",
    "orchestrate(\"please help me, I've a UK citizen and lost my passport in bangkok and have been mugged\")"
   ]
  },
  {
   "cell_type": "code",
   "execution_count": null,
   "metadata": {},
   "outputs": [],
   "source": []
  }
 ],
 "metadata": {
  "kernelspec": {
   "display_name": "Python 3 (ipykernel)",
   "language": "python",
   "name": "python3"
  },
  "language_info": {
   "codemirror_mode": {
    "name": "ipython",
    "version": 3
   },
   "file_extension": ".py",
   "mimetype": "text/x-python",
   "name": "python",
   "nbconvert_exporter": "python",
   "pygments_lexer": "ipython3",
   "version": "3.8.18"
  }
 },
 "nbformat": 4,
 "nbformat_minor": 2
}
